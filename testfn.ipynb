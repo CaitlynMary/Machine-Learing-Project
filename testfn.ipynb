{
 "cells": [
  {
   "cell_type": "code",
   "execution_count": 2,
   "id": "fec3f03a-1d37-4550-8bf1-53e5e4120fd2",
   "metadata": {},
   "outputs": [],
   "source": [
    "#Importing libraries\n",
    "import numpy as np\n",
    "import pandas as pd\n",
    "import re\n",
    "from nltk.corpus import stopwords\n",
    "from nltk.stem.porter import PorterStemmer\n",
    "from sklearn.feature_extraction.text import TfidfVectorizer\n",
    "from sklearn.model_selection import train_test_split\n",
    "\n",
    "from sklearn.metrics import accuracy_score\n",
    "from sklearn.metrics import accuracy_score, classification_report"
   ]
  },
  {
   "cell_type": "code",
   "execution_count": null,
   "id": "c8bf66f3-3547-4ace-964b-4b16ed93cc3a",
   "metadata": {},
   "outputs": [],
   "source": []
  },
  {
   "cell_type": "code",
   "execution_count": 3,
   "id": "145ab308-eb42-41a2-a6ad-90f3b450417d",
   "metadata": {},
   "outputs": [
    {
     "name": "stderr",
     "output_type": "stream",
     "text": [
      "[nltk_data] Downloading package stopwords to C:\\Users\\J.S. CAITLYN\n",
      "[nltk_data]     MARY\\AppData\\Roaming\\nltk_data...\n",
      "[nltk_data]   Package stopwords is already up-to-date!\n"
     ]
    },
    {
     "data": {
      "text/plain": [
       "True"
      ]
     },
     "execution_count": 3,
     "metadata": {},
     "output_type": "execute_result"
    }
   ],
   "source": [
    "import nltk\n",
    "nltk.download('stopwords')"
   ]
  },
  {
   "cell_type": "code",
   "execution_count": 4,
   "id": "90320b41-c6c1-4e02-81eb-c8b6ca909ab1",
   "metadata": {},
   "outputs": [
    {
     "name": "stdout",
     "output_type": "stream",
     "text": [
      "['i', 'me', 'my', 'myself', 'we', 'our', 'ours', 'ourselves', 'you', \"you're\", \"you've\", \"you'll\", \"you'd\", 'your', 'yours', 'yourself', 'yourselves', 'he', 'him', 'his', 'himself', 'she', \"she's\", 'her', 'hers', 'herself', 'it', \"it's\", 'its', 'itself', 'they', 'them', 'their', 'theirs', 'themselves', 'what', 'which', 'who', 'whom', 'this', 'that', \"that'll\", 'these', 'those', 'am', 'is', 'are', 'was', 'were', 'be', 'been', 'being', 'have', 'has', 'had', 'having', 'do', 'does', 'did', 'doing', 'a', 'an', 'the', 'and', 'but', 'if', 'or', 'because', 'as', 'until', 'while', 'of', 'at', 'by', 'for', 'with', 'about', 'against', 'between', 'into', 'through', 'during', 'before', 'after', 'above', 'below', 'to', 'from', 'up', 'down', 'in', 'out', 'on', 'off', 'over', 'under', 'again', 'further', 'then', 'once', 'here', 'there', 'when', 'where', 'why', 'how', 'all', 'any', 'both', 'each', 'few', 'more', 'most', 'other', 'some', 'such', 'no', 'nor', 'not', 'only', 'own', 'same', 'so', 'than', 'too', 'very', 's', 't', 'can', 'will', 'just', 'don', \"don't\", 'should', \"should've\", 'now', 'd', 'll', 'm', 'o', 're', 've', 'y', 'ain', 'aren', \"aren't\", 'couldn', \"couldn't\", 'didn', \"didn't\", 'doesn', \"doesn't\", 'hadn', \"hadn't\", 'hasn', \"hasn't\", 'haven', \"haven't\", 'isn', \"isn't\", 'ma', 'mightn', \"mightn't\", 'mustn', \"mustn't\", 'needn', \"needn't\", 'shan', \"shan't\", 'shouldn', \"shouldn't\", 'wasn', \"wasn't\", 'weren', \"weren't\", 'won', \"won't\", 'wouldn', \"wouldn't\"]\n"
     ]
    }
   ],
   "source": [
    "# printing the stopwords in English\n",
    "print(stopwords.words('english'))"
   ]
  },
  {
   "cell_type": "code",
   "execution_count": 5,
   "id": "45890086-56e3-46b4-b8a0-ec69c1883b43",
   "metadata": {},
   "outputs": [],
   "source": [
    "df=pd.read_csv(\"train.csv\")"
   ]
  },
  {
   "cell_type": "code",
   "execution_count": 6,
   "id": "64673afb-516d-462a-b149-fd3633b3a500",
   "metadata": {},
   "outputs": [
    {
     "ename": "NameError",
     "evalue": "name 'train' is not defined",
     "output_type": "error",
     "traceback": [
      "\u001b[1;31m---------------------------------------------------------------------------\u001b[0m",
      "\u001b[1;31mNameError\u001b[0m                                 Traceback (most recent call last)",
      "Cell \u001b[1;32mIn[6], line 1\u001b[0m\n\u001b[1;32m----> 1\u001b[0m class_labels  \u001b[38;5;241m=\u001b[39m \u001b[43mtrain\u001b[49m[\u001b[38;5;124m'\u001b[39m\u001b[38;5;124mlabel\u001b[39m\u001b[38;5;124m'\u001b[39m]\u001b[38;5;241m.\u001b[39mvalues\u001b[38;5;241m.\u001b[39mtolist()\n\u001b[0;32m      2\u001b[0m class_labels_set \u001b[38;5;241m=\u001b[39m \u001b[38;5;28mset\u001b[39m(class_labels)\n\u001b[0;32m      4\u001b[0m freq_list \u001b[38;5;241m=\u001b[39m []\n",
      "\u001b[1;31mNameError\u001b[0m: name 'train' is not defined"
     ]
    }
   ],
   "source": [
    "class_labels  = train['label'].values.tolist()\n",
    "class_labels_set = set(class_labels)\n",
    "\n",
    "freq_list = []\n",
    "\n",
    "for c in class_labels_set:\n",
    "    freq_list.append(class_labels.count(c))\n",
    "\n",
    "print ('Freq',freq_list)\n",
    "print ('number',class_labels_set)"
   ]
  },
  {
   "cell_type": "code",
   "execution_count": null,
   "id": "22fe7c1e-fe60-4744-abe8-ffd2954dd008",
   "metadata": {},
   "outputs": [],
   "source": [
    "large = 22; med = 16; small = 12\n",
    "params = {'axes.titlesize': large,\n",
    "          'legend.fontsize': med,\n",
    "          'figure.figsize': (16, 10),\n",
    "          'axes.labelsize': med,\n",
    "          'axes.titlesize': med,\n",
    "          'xtick.labelsize': med,\n",
    "          'ytick.labelsize': med,\n",
    "          'figure.titlesize': large}\n",
    "plt.rcParams.update(params)\n",
    "plt.style.use('seaborn-whitegrid')\n",
    "sns.set_style(\"darkgrid\")"
   ]
  },
  {
   "cell_type": "code",
   "execution_count": null,
   "id": "cf8d6add-e860-4202-82d9-815bceeaa56a",
   "metadata": {},
   "outputs": [],
   "source": [
    "# plot the number of samples per class\n",
    "import seaborn as sns\n",
    "plt.figure(figsize=(8,8))\n",
    "sns.countplot(x=\"label\", data=train)"
   ]
  },
  {
   "cell_type": "code",
   "execution_count": null,
   "id": "ccf740bd-4b4a-40cf-a041-10cbfabd019b",
   "metadata": {},
   "outputs": [],
   "source": [
    "train.head()"
   ]
  },
  {
   "cell_type": "code",
   "execution_count": null,
   "id": "8b83c940-3d3e-4706-86f8-ca47f16d059a",
   "metadata": {},
   "outputs": [],
   "source": [
    "# how many null values in the dataset\n",
    "print(\"Null values in train data:\")\n",
    "print(train.isnull().sum())\n",
    "print('\\n\\n')\n",
    "\n",
    "print(\"Null values in test data:\")\n",
    "print(test.isnull().sum())"
   ]
  },
  {
   "cell_type": "code",
   "execution_count": null,
   "id": "d1ccf24d-f978-483a-94fe-52231cf67367",
   "metadata": {},
   "outputs": [],
   "source": [
    "sns.heatmap(train.isnull(),cmap='YlGnBu_r')"
   ]
  },
  {
   "cell_type": "code",
   "execution_count": null,
   "id": "ac694667-5856-4e15-ab8f-183c91e9b73a",
   "metadata": {},
   "outputs": [],
   "source": [
    "#imputing the data\n",
    "test=test.fillna(' ') \n",
    "train=train.fillna(' ') "
   ]
  },
  {
   "cell_type": "code",
   "execution_count": null,
   "id": "52e45e74-a231-4daa-967b-70bc27eb071b",
   "metadata": {},
   "outputs": [],
   "source": [
    "sns.heatmap(train.isnull(), cmap='YlGnBu_r')"
   ]
  },
  {
   "cell_type": "code",
   "execution_count": null,
   "id": "bd3de5ce-2a33-4fd8-abb4-492f549b8448",
   "metadata": {},
   "outputs": [],
   "source": [
    "from sklearn.feature_extraction.text import CountVectorizer\n",
    "def get_top_n_words(corpus, n=None):\n",
    "    vec = CountVectorizer().fit(corpus)\n",
    "    bag_of_words = vec.transform(corpus)\n",
    "    sum_words = bag_of_words.sum(axis=0) \n",
    "    words_freq = [(word, sum_words[0, idx]) for word, idx in vec.vocabulary_.items()]\n",
    "    words_freq =sorted(words_freq, key = lambda x: x[1], reverse=True)\n",
    "    return words_freq[:n]\n",
    "common_words = get_top_n_words(train['text'], 20)\n",
    "for word, freq in common_words:\n",
    "    print(word, freq)\n",
    "df1 = pd.DataFrame(common_words, columns = ['text' , 'count'])\n",
    "df1.groupby('text').sum()['count'].sort_values(ascending=False).plot(\n",
    "kind='bar', title='Top 20 words in dataset before removing stop words',color=['slateblue', 'blueviolet', 'violet', 'orchid', 'lightpink'])"
   ]
  },
  {
   "cell_type": "code",
   "execution_count": null,
   "id": "a78db585-322c-4a86-a166-650a1951f70a",
   "metadata": {},
   "outputs": [],
   "source": []
  },
  {
   "cell_type": "code",
   "execution_count": null,
   "id": "cde99d8b-5818-4871-8e44-d615f9c4e560",
   "metadata": {},
   "outputs": [],
   "source": []
  },
  {
   "cell_type": "code",
   "execution_count": null,
   "id": "b47a37e4-b7b9-47c2-9d0f-d22eac7a5894",
   "metadata": {},
   "outputs": [],
   "source": []
  },
  {
   "cell_type": "code",
   "execution_count": null,
   "id": "23200d77-26c3-4ea4-b8fd-12b71f3fd6a7",
   "metadata": {},
   "outputs": [],
   "source": []
  },
  {
   "cell_type": "code",
   "execution_count": null,
   "id": "ab3ec1e9-b788-4964-8455-9e18fb4db1b7",
   "metadata": {},
   "outputs": [],
   "source": []
  },
  {
   "cell_type": "code",
   "execution_count": null,
   "id": "e04e6afb-72db-4c32-94fd-4d9d3ee01622",
   "metadata": {},
   "outputs": [],
   "source": []
  },
  {
   "cell_type": "code",
   "execution_count": null,
   "id": "9b21d22a-6adc-41ae-a763-80506023696c",
   "metadata": {},
   "outputs": [],
   "source": []
  },
  {
   "cell_type": "code",
   "execution_count": null,
   "id": "7d28ecc7-1db4-4371-8280-d6dcc1a22d32",
   "metadata": {},
   "outputs": [],
   "source": []
  },
  {
   "cell_type": "code",
   "execution_count": 5,
   "id": "71837d81-d965-412b-b507-a1411e1555c5",
   "metadata": {},
   "outputs": [
    {
     "data": {
      "text/plain": [
       "id           0\n",
       "title      558\n",
       "author    1957\n",
       "text        39\n",
       "label        0\n",
       "dtype: int64"
      ]
     },
     "execution_count": 5,
     "metadata": {},
     "output_type": "execute_result"
    }
   ],
   "source": [
    "# counting the number of missing values in the dataset\n",
    "df.isnull().sum()"
   ]
  },
  {
   "cell_type": "code",
   "execution_count": 6,
   "id": "061ffa21-829d-4744-a017-3019117b9d36",
   "metadata": {},
   "outputs": [],
   "source": [
    "# replacing the null values with empty string\n",
    "df = df.fillna('')"
   ]
  },
  {
   "cell_type": "code",
   "execution_count": 7,
   "id": "4a5bca5f-601e-4869-b2d2-f5eec95f164c",
   "metadata": {},
   "outputs": [],
   "source": [
    "df['content']= df['author']+' '+df['title']"
   ]
  },
  {
   "cell_type": "code",
   "execution_count": 8,
   "id": "1a314ee5-5e94-4464-bf1b-748ae1068645",
   "metadata": {},
   "outputs": [
    {
     "name": "stdout",
     "output_type": "stream",
     "text": [
      "0        Darrell Lucus House Dem Aide: We Didn’t Even S...\n",
      "1        Daniel J. Flynn FLYNN: Hillary Clinton, Big Wo...\n",
      "2        Consortiumnews.com Why the Truth Might Get You...\n",
      "3        Jessica Purkiss 15 Civilians Killed In Single ...\n",
      "4        Howard Portnoy Iranian woman jailed for fictio...\n",
      "                               ...                        \n",
      "20795    Jerome Hudson Rapper T.I.: Trump a ’Poster Chi...\n",
      "20796    Benjamin Hoffman N.F.L. Playoffs: Schedule, Ma...\n",
      "20797    Michael J. de la Merced and Rachel Abrams Macy...\n",
      "20798    Alex Ansary NATO, Russia To Hold Parallel Exer...\n",
      "20799              David Swanson What Keeps the F-35 Alive\n",
      "Name: content, Length: 20800, dtype: object\n"
     ]
    }
   ],
   "source": [
    "print(df['content'])"
   ]
  },
  {
   "cell_type": "code",
   "execution_count": 9,
   "id": "397d6999-9d8f-4a09-9667-f1712228a2d7",
   "metadata": {},
   "outputs": [],
   "source": [
    "#separating the data & label\n",
    "X=df.drop(columns='label',axis=1)\n",
    "Y=df['label']"
   ]
  },
  {
   "cell_type": "code",
   "execution_count": 10,
   "id": "b75d5df9-1664-4c2e-b541-a4e86412142d",
   "metadata": {},
   "outputs": [
    {
     "name": "stdout",
     "output_type": "stream",
     "text": [
      "          id                                              title  \\\n",
      "0          0  House Dem Aide: We Didn’t Even See Comey’s Let...   \n",
      "1          1  FLYNN: Hillary Clinton, Big Woman on Campus - ...   \n",
      "2          2                  Why the Truth Might Get You Fired   \n",
      "3          3  15 Civilians Killed In Single US Airstrike Hav...   \n",
      "4          4  Iranian woman jailed for fictional unpublished...   \n",
      "...      ...                                                ...   \n",
      "20795  20795  Rapper T.I.: Trump a ’Poster Child For White S...   \n",
      "20796  20796  N.F.L. Playoffs: Schedule, Matchups and Odds -...   \n",
      "20797  20797  Macy’s Is Said to Receive Takeover Approach by...   \n",
      "20798  20798  NATO, Russia To Hold Parallel Exercises In Bal...   \n",
      "20799  20799                          What Keeps the F-35 Alive   \n",
      "\n",
      "                                          author  \\\n",
      "0                                  Darrell Lucus   \n",
      "1                                Daniel J. Flynn   \n",
      "2                             Consortiumnews.com   \n",
      "3                                Jessica Purkiss   \n",
      "4                                 Howard Portnoy   \n",
      "...                                          ...   \n",
      "20795                              Jerome Hudson   \n",
      "20796                           Benjamin Hoffman   \n",
      "20797  Michael J. de la Merced and Rachel Abrams   \n",
      "20798                                Alex Ansary   \n",
      "20799                              David Swanson   \n",
      "\n",
      "                                                    text  \\\n",
      "0      House Dem Aide: We Didn’t Even See Comey’s Let...   \n",
      "1      Ever get the feeling your life circles the rou...   \n",
      "2      Why the Truth Might Get You Fired October 29, ...   \n",
      "3      Videos 15 Civilians Killed In Single US Airstr...   \n",
      "4      Print \\nAn Iranian woman has been sentenced to...   \n",
      "...                                                  ...   \n",
      "20795  Rapper T. I. unloaded on black celebrities who...   \n",
      "20796  When the Green Bay Packers lost to the Washing...   \n",
      "20797  The Macy’s of today grew from the union of sev...   \n",
      "20798  NATO, Russia To Hold Parallel Exercises In Bal...   \n",
      "20799    David Swanson is an author, activist, journa...   \n",
      "\n",
      "                                                 content  \n",
      "0      Darrell Lucus House Dem Aide: We Didn’t Even S...  \n",
      "1      Daniel J. Flynn FLYNN: Hillary Clinton, Big Wo...  \n",
      "2      Consortiumnews.com Why the Truth Might Get You...  \n",
      "3      Jessica Purkiss 15 Civilians Killed In Single ...  \n",
      "4      Howard Portnoy Iranian woman jailed for fictio...  \n",
      "...                                                  ...  \n",
      "20795  Jerome Hudson Rapper T.I.: Trump a ’Poster Chi...  \n",
      "20796  Benjamin Hoffman N.F.L. Playoffs: Schedule, Ma...  \n",
      "20797  Michael J. de la Merced and Rachel Abrams Macy...  \n",
      "20798  Alex Ansary NATO, Russia To Hold Parallel Exer...  \n",
      "20799            David Swanson What Keeps the F-35 Alive  \n",
      "\n",
      "[20800 rows x 5 columns]\n"
     ]
    }
   ],
   "source": [
    "print(X)"
   ]
  },
  {
   "cell_type": "code",
   "execution_count": 11,
   "id": "b7d48744-188a-45be-a343-7172d843a756",
   "metadata": {},
   "outputs": [],
   "source": [
    "port_stem = PorterStemmer()"
   ]
  },
  {
   "cell_type": "code",
   "execution_count": 12,
   "id": "f233f9a5-8a39-4145-b7fa-fc48c6f6da6d",
   "metadata": {},
   "outputs": [],
   "source": [
    "def stemming(content):\n",
    "    stemmed_content = re.sub('[^a-zA-Z]',' ',content)\n",
    "    stemmed_content = stemmed_content.lower()\n",
    "    stemmed_content = stemmed_content.split()\n",
    "    stemmed_content = [port_stem.stem(word) for word in stemmed_content if not word in stopwords.words('english')]\n",
    "    stemmed_content = ' '.join(stemmed_content)\n",
    "    return stemmed_content"
   ]
  },
  {
   "cell_type": "code",
   "execution_count": 13,
   "id": "bba2be63-1a13-4d6b-b15f-52f81605e632",
   "metadata": {},
   "outputs": [],
   "source": [
    "df['content'] = df['content'].apply(stemming)"
   ]
  },
  {
   "cell_type": "code",
   "execution_count": 14,
   "id": "9a46cd8a-57f3-4a32-8f4a-6f1dc540c2aa",
   "metadata": {},
   "outputs": [
    {
     "name": "stdout",
     "output_type": "stream",
     "text": [
      "0        darrel lucu hous dem aid even see comey letter...\n",
      "1        daniel j flynn flynn hillari clinton big woman...\n",
      "2                   consortiumnew com truth might get fire\n",
      "3        jessica purkiss civilian kill singl us airstri...\n",
      "4        howard portnoy iranian woman jail fiction unpu...\n",
      "                               ...                        \n",
      "20795    jerom hudson rapper trump poster child white s...\n",
      "20796    benjamin hoffman n f l playoff schedul matchup...\n",
      "20797    michael j de la merc rachel abram maci said re...\n",
      "20798    alex ansari nato russia hold parallel exercis ...\n",
      "20799                            david swanson keep f aliv\n",
      "Name: content, Length: 20800, dtype: object\n"
     ]
    }
   ],
   "source": [
    "print(df['content'])"
   ]
  },
  {
   "cell_type": "code",
   "execution_count": 15,
   "id": "f71ef567-c65d-45cc-92aa-9feebe1cf615",
   "metadata": {},
   "outputs": [],
   "source": [
    "#separating the data and label\n",
    "X = df['content'].values\n",
    "Y = df['label'].values"
   ]
  },
  {
   "cell_type": "code",
   "execution_count": 16,
   "id": "f147c6d2-ee4e-49c6-930b-ff25ef60c691",
   "metadata": {},
   "outputs": [
    {
     "name": "stdout",
     "output_type": "stream",
     "text": [
      "['darrel lucu hous dem aid even see comey letter jason chaffetz tweet'\n",
      " 'daniel j flynn flynn hillari clinton big woman campu breitbart'\n",
      " 'consortiumnew com truth might get fire' ...\n",
      " 'michael j de la merc rachel abram maci said receiv takeov approach hudson bay new york time'\n",
      " 'alex ansari nato russia hold parallel exercis balkan'\n",
      " 'david swanson keep f aliv']\n"
     ]
    }
   ],
   "source": [
    "print(X)"
   ]
  },
  {
   "cell_type": "code",
   "execution_count": 17,
   "id": "81ea3a7c-bf7e-4623-8863-fe4d4207a29c",
   "metadata": {},
   "outputs": [
    {
     "name": "stdout",
     "output_type": "stream",
     "text": [
      "[1 0 1 ... 0 1 1]\n"
     ]
    }
   ],
   "source": [
    "print(Y)"
   ]
  },
  {
   "cell_type": "code",
   "execution_count": 18,
   "id": "3ec0bf43-fe5d-43ef-919c-79eebc823f98",
   "metadata": {},
   "outputs": [],
   "source": [
    "# converting the textual data to numerical data\n",
    "vectorizer = TfidfVectorizer()\n",
    "vectorizer.fit(X)\n",
    "\n",
    "X = vectorizer.transform(X)"
   ]
  },
  {
   "cell_type": "code",
   "execution_count": null,
   "id": "895d045c-dabc-4f51-9646-9b315643a3c1",
   "metadata": {},
   "outputs": [],
   "source": []
  },
  {
   "cell_type": "code",
   "execution_count": null,
   "id": "bed1123e-bff8-41c4-9a18-16d6509e6236",
   "metadata": {},
   "outputs": [],
   "source": []
  },
  {
   "cell_type": "code",
   "execution_count": 19,
   "id": "feb219a6-b009-4c8d-80cb-468df8e84b4a",
   "metadata": {},
   "outputs": [],
   "source": [
    "X_train, X_test, Y_train, Y_test = train_test_split(X, Y, test_size = 0.2, stratify=Y, random_state=2)"
   ]
  },
  {
   "cell_type": "code",
   "execution_count": 20,
   "id": "4d37579f-23fb-4913-a0e4-f0aa369bbbd2",
   "metadata": {},
   "outputs": [
    {
     "name": "stdout",
     "output_type": "stream",
     "text": [
      "Accuracy score of the test data :  0.9790865384615385\n"
     ]
    }
   ],
   "source": [
    "from sklearn.linear_model import LogisticRegression\n",
    "model = LogisticRegression()\n",
    "model.fit(X_train, Y_train)\n",
    "X_test_prediction = model.predict(X_test)\n",
    "test_data_accuracy = accuracy_score(X_test_prediction, Y_test)\n",
    "print('Accuracy score of the test data : ', test_data_accuracy)"
   ]
  },
  {
   "cell_type": "code",
   "execution_count": 21,
   "id": "0aa59abf-7b30-4bc8-947e-cc7db9d74206",
   "metadata": {},
   "outputs": [
    {
     "name": "stdout",
     "output_type": "stream",
     "text": [
      "Accuracy score of the test data (Random Forest):  0.9935096153846154\n"
     ]
    }
   ],
   "source": [
    "from sklearn.ensemble import RandomForestClassifier\n",
    "rmodel = RandomForestClassifier(n_estimators=100, random_state=42) \n",
    "rmodel.fit(X_train, Y_train)\n",
    "X_test_prediction = rmodel.predict(X_test)\n",
    "test_data_accuracy = accuracy_score(Y_test, X_test_prediction)\n",
    "print('Accuracy score of the test data (Random Forest): ', test_data_accuracy)\n",
    "\n",
    "\n"
   ]
  },
  {
   "cell_type": "code",
   "execution_count": 22,
   "id": "5b571454-b08d-4adf-85a4-031ae3ed93df",
   "metadata": {},
   "outputs": [
    {
     "name": "stdout",
     "output_type": "stream",
     "text": [
      "Accuracy score of the test data (Random Forest): 99.35%\n"
     ]
    }
   ],
   "source": [
    "print(f'Accuracy score of the test data (Random Forest): {test_data_accuracy * 100:.2f}%')"
   ]
  },
  {
   "cell_type": "code",
   "execution_count": 23,
   "id": "4c77f4c2-43de-4409-bdb6-d17b48961733",
   "metadata": {},
   "outputs": [
    {
     "name": "stdout",
     "output_type": "stream",
     "text": [
      "Accuracy score of the test data :  0.9790865384615385\n"
     ]
    }
   ],
   "source": [
    "from sklearn.linear_model import PassiveAggressiveClassifier\n",
    "pmodel = PassiveAggressiveClassifier(max_iter=1000, random_state=43, tol=1e-3) \n",
    "pmodel.fit(X_train, Y_train)\n",
    "X_test_prediction = model.predict(X_test)\n",
    "test_data_accuracy = accuracy_score(Y_test, X_test_prediction)\n",
    "print('Accuracy score of the test data : ', test_data_accuracy)"
   ]
  },
  {
   "cell_type": "code",
   "execution_count": 24,
   "id": "3908f9a4-ec68-4ea5-914f-07807559d824",
   "metadata": {},
   "outputs": [
    {
     "name": "stdout",
     "output_type": "stream",
     "text": [
      "Accuracy score of the test data (Random Forest): 97.91%\n"
     ]
    }
   ],
   "source": [
    "print(f'Accuracy score of the test data (Random Forest): {test_data_accuracy * 100:.2f}%')"
   ]
  },
  {
   "cell_type": "code",
   "execution_count": 25,
   "id": "3620f3ea-b1fe-42e5-b948-07e9ed126be8",
   "metadata": {},
   "outputs": [
    {
     "name": "stdout",
     "output_type": "stream",
     "text": [
      "Accuracy score of the test data (KNN):  0.5865384615384616\n"
     ]
    }
   ],
   "source": [
    "from sklearn.neighbors import KNeighborsClassifier\n",
    "model_knn = KNeighborsClassifier(n_neighbors=1)\n",
    "# Fit the model\n",
    "model_knn.fit(X_train, Y_train)\n",
    "X_test_prediction = model_knn.predict(X_test)\n",
    "test_data_accuracy = accuracy_score(Y_test, X_test_prediction)\n",
    "print('Accuracy score of the test data (KNN): ', test_data_accuracy)"
   ]
  },
  {
   "cell_type": "code",
   "execution_count": 26,
   "id": "f05a04c7-7e4a-47d9-99aa-8dfd7f8c7c42",
   "metadata": {},
   "outputs": [
    {
     "name": "stdout",
     "output_type": "stream",
     "text": [
      "Accuracy score of the test data (Random Forest): 58.65%\n"
     ]
    }
   ],
   "source": [
    "print(f'Accuracy score of the test data (Random Forest): {test_data_accuracy * 100:.2f}%')"
   ]
  },
  {
   "cell_type": "code",
   "execution_count": 27,
   "id": "d31d67ba-d4c1-4555-997c-e469972801ec",
   "metadata": {},
   "outputs": [
    {
     "name": "stdout",
     "output_type": "stream",
     "text": [
      "Accuracy score of the test data (Naive Bayes):  0.9550480769230769\n"
     ]
    }
   ],
   "source": [
    "from sklearn.naive_bayes import MultinomialNB\n",
    "model_nb = MultinomialNB()\n",
    "model_nb.fit(X_train, Y_train)\n",
    "X_test_prediction = model_nb.predict(X_test)\n",
    "test_data_accuracy = accuracy_score(Y_test, X_test_prediction)\n",
    "print('Accuracy score of the test data (Naive Bayes): ', test_data_accuracy)"
   ]
  },
  {
   "cell_type": "code",
   "execution_count": 28,
   "id": "8cc36d25-70e3-4c0d-a2e9-688841f30b1c",
   "metadata": {},
   "outputs": [
    {
     "name": "stdout",
     "output_type": "stream",
     "text": [
      "Accuracy score of the test data (Random Forest): 95.50%\n"
     ]
    }
   ],
   "source": [
    "print(f'Accuracy score of the test data (Random Forest): {test_data_accuracy * 100:.2f}%')"
   ]
  },
  {
   "cell_type": "code",
   "execution_count": null,
   "id": "328e75fd-ea37-465c-a9b1-8674d6630a6c",
   "metadata": {},
   "outputs": [],
   "source": []
  },
  {
   "cell_type": "code",
   "execution_count": 29,
   "id": "40797659-a9ff-4dd0-a327-4acd197f3d90",
   "metadata": {},
   "outputs": [
    {
     "data": {
      "image/png": "[encoded data removed]",
      "text/plain": [
       "<Figure size 640x480 with 1 Axes>"
      ]
     },
     "metadata": {},
     "output_type": "display_data"
    }
   ],
   "source": [
    "import matplotlib.pyplot as plt\n",
    "import numpy as np\n",
    "from sklearn.metrics import classification_report\n",
    "\n",
    "# Store the evaluation metrics for each model\n",
    "models = ['Logistic Regression', 'Random Forest', 'Passive Aggressive', 'KNN', 'Naive Bayes']\n",
    "accuracies = [0.98, 0.99, 0.98, 0.89, 0.96]  # Replace with your accuracy values\n",
    "precisions = [0.97, 0.99, 0.97, 0.90, 0.99]  # Replace with your precision values\n",
    "recalls = [0.99, 0.99, 0.91, 0.85, 0.99]  # Replace with your recall values\n",
    "f1_scores = [0.98, 0.99, 0.98, 0.87, 0.96]  # Replace with your F1 score values\n",
    "\n",
    "# Define bar width and x locations\n",
    "bar_width = 0.2\n",
    "x = np.arange(len(models))\n",
    "\n",
    "# Create the bar plots\n",
    "plt.bar(x - bar_width * 1.5, accuracies, width=bar_width, label='Accuracy', color='b')\n",
    "plt.bar(x - bar_width / 2, precisions, width=bar_width, label='Precision', color='g')\n",
    "plt.bar(x + bar_width / 2, recalls, width=bar_width, label='Recall', color='r')\n",
    "plt.bar(x + bar_width * 1.5, f1_scores, width=bar_width, label='F1 Score', color='c')\n",
    "\n",
    "# Adding titles and labels\n",
    "plt.xlabel('Models')\n",
    "plt.ylabel('Scores')\n",
    "plt.title('Performance Metrics for Fake News Detection Models')\n",
    "plt.xticks(x, models)\n",
    "plt.ylim(0, 1)  # Set y-axis limit to 1\n",
    "plt.legend()\n",
    "\n",
    "# Show the plot\n",
    "plt.tight_layout()\n",
    "plt.show()\n"
   ]
  },
  {
   "cell_type": "code",
   "execution_count": 30,
   "id": "10700630-f482-4c43-a52c-dc9325cb686e",
   "metadata": {},
   "outputs": [
    {
     "data": {
      "image/png": "[encoded data removed]",
      "text/plain": [
       "<Figure size 640x480 with 1 Axes>"
      ]
     },
     "metadata": {},
     "output_type": "display_data"
    }
   ],
   "source": [
    "import matplotlib.pyplot as plt\n",
    "import numpy as np\n",
    "from sklearn.metrics import classification_report\n",
    "\n",
    "# Store the evaluation metrics for each model\n",
    "models = ['LR', 'RF', 'PAC', 'KNN', 'NB']\n",
    "accuracies = [0.98, 0.99, 0.98, 0.89, 0.96]  # Replace with your accuracy values\n",
    "precisions = [0.97, 0.99, 0.97, 0.90, 0.99]  # Replace with your precision values\n",
    "recalls = [0.99, 0.99, 0.91, 0.85, 0.99]  # Replace with your recall values\n",
    "f1_scores = [0.98, 0.99, 0.98, 0.87, 0.96]  # Replace with your F1 score values\n",
    "\n",
    "# Define bar width and x locations\n",
    "bar_width = 0.2\n",
    "x = np.arange(len(models))\n",
    "\n",
    "# Create the bar plots with lighter colors\n",
    "plt.bar(x - bar_width * 1.5, accuracies, width=bar_width, label='Accuracy', color='lightblue')\n",
    "plt.bar(x - bar_width / 2, precisions, width=bar_width, label='Precision', color='lightgreen')\n",
    "plt.bar(x + bar_width / 2, recalls, width=bar_width, label='Recall', color='lightcoral')\n",
    "plt.bar(x + bar_width * 1.5, f1_scores, width=bar_width, label='F1 Score', color='lightcyan')\n",
    "\n",
    "# Adding titles and labels\n",
    "plt.xlabel('Models')\n",
    "plt.ylabel('Scores')\n",
    "plt.title('Performance Metrics for Fake News Detection Models')\n",
    "plt.xticks(x, models)\n",
    "plt.ylim(0, 1)  # Set y-axis limit to 1\n",
    "plt.legend()\n",
    "\n",
    "# Show the plot\n",
    "plt.tight_layout()\n",
    "plt.show()\n"
   ]
  },
  {
   "cell_type": "code",
   "execution_count": 31,
   "id": "be23fdd3-cd01-45ca-8d6b-e58f485c9ac9",
   "metadata": {},
   "outputs": [
    {
     "data": {
      "image/png": "[encoded data removed]",
      "text/plain": [
       "<Figure size 640x480 with 1 Axes>"
      ]
     },
     "metadata": {},
     "output_type": "display_data"
    }
   ],
   "source": [
    "import matplotlib.pyplot as plt\n",
    "import numpy as np\n",
    "from sklearn.metrics import classification_report\n",
    "\n",
    "# Store the evaluation metrics for each model\n",
    "models = ['LR', 'RF', 'PAC', 'KNN', 'NB']\n",
    "accuracies = [0.98, 0.99, 0.98, 0.89, 0.96]  # Replace with your accuracy values\n",
    "precisions = [0.97, 0.99, 0.97, 0.90, 0.99]  # Replace with your precision values\n",
    "recalls = [0.99, 0.99, 0.91, 0.85, 0.99]  # Replace with your recall values\n",
    "f1_scores = [0.98, 0.99, 0.98, 0.87, 0.96]  # Replace with your F1 score values\n",
    "\n",
    "# Define bar width and x locations\n",
    "bar_width = 0.2\n",
    "x = np.arange(len(models))\n",
    "\n",
    "# Create the bar plots with lighter colors and outlines\n",
    "plt.bar(x - bar_width * 1.5, accuracies, width=bar_width, label='Accuracy', color='lightblue', edgecolor='blue')\n",
    "plt.bar(x - bar_width / 2, precisions, width=bar_width, label='Precision', color='lightgreen', edgecolor='green')\n",
    "plt.bar(x + bar_width / 2, recalls, width=bar_width, label='Recall', color='lightcoral', edgecolor='red')\n",
    "plt.bar(x + bar_width * 1.5, f1_scores, width=bar_width, label='F1 Score', color='lightcyan', edgecolor='cyan')\n",
    "\n",
    "# Adding titles and labels\n",
    "plt.xlabel('Models')\n",
    "plt.ylabel('Scores')\n",
    "plt.title('Performance Metrics for Fake News Detection Models')\n",
    "plt.xticks(x, models)\n",
    "plt.ylim(0, 1)  # Set y-axis limit to 1\n",
    "plt.legend()\n",
    "\n",
    "# Show the plot\n",
    "plt.tight_layout()\n",
    "plt.show()\n",
    "# Add a description below the plot\n",
    "\n"
   ]
  },
  {
   "cell_type": "code",
   "execution_count": null,
   "id": "26645a7b-e09f-43c3-98fd-8d900b7fab8d",
   "metadata": {},
   "outputs": [],
   "source": []
  },
  {
   "cell_type": "code",
   "execution_count": 32,
   "id": "dabfefbc-7aa1-48f4-bfc5-826f998f46d0",
   "metadata": {},
   "outputs": [
    {
     "data": {
      "image/png": "[encoded data removed]",
      "text/plain": [
       "<Figure size 800x600 with 1 Axes>"
      ]
     },
     "metadata": {},
     "output_type": "display_data"
    }
   ],
   "source": [
    "import matplotlib.pyplot as plt\n",
    "\n",
    "# Assuming X and Y are your feature and target variables\n",
    "# Calculate the number of samples in the dataset\n",
    "total_samples = len(Y)\n",
    "train_size = int(total_samples * 0.8)  # 80% for training\n",
    "test_size = total_samples - train_size  # 20% for testing\n",
    "\n",
    "# Data for the pie chart\n",
    "sizes = [train_size, test_size]\n",
    "labels = ['Training Set (80%)', 'Testing Set (20%)']\n",
    "colors = ['#66c2a5', '#fc8d62']  # Light colors for better visualization\n",
    "\n",
    "# Create the pie chart\n",
    "plt.figure(figsize=(8, 6))\n",
    "plt.pie(sizes, labels=labels, colors=colors, autopct='%1.1f%%', startangle=90)\n",
    "plt.axis('equal')  # Equal aspect ratio ensures that pie is drawn as a circle.\n",
    "\n",
    "# Add title\n",
    "plt.title('Data Split between Training and Testing Sets', fontsize=16)\n",
    "\n",
    "# Show the plot\n",
    "plt.show()\n"
   ]
  },
  {
   "cell_type": "code",
   "execution_count": null,
   "id": "3a46515c-d0e9-4be5-8624-9be631e4380c",
   "metadata": {},
   "outputs": [],
   "source": []
  },
  {
   "cell_type": "code",
   "execution_count": 33,
   "id": "39f3766b-e8e3-4a51-b13c-7fcf9662fba2",
   "metadata": {},
   "outputs": [
    {
     "name": "stdout",
     "output_type": "stream",
     "text": [
      "Number of training samples: 16640\n",
      "Number of testing samples: 4160\n"
     ]
    },
    {
     "data": {
      "image/png": "[encoded data removed]",
      "text/plain": [
       "<Figure size 1000x600 with 1 Axes>"
      ]
     },
     "metadata": {},
     "output_type": "display_data"
    }
   ],
   "source": [
    "import matplotlib.pyplot as plt\n",
    "from sklearn.metrics import classification_report, confusion_matrix\n",
    "\n",
    "# Count number of training and testing samples\n",
    "num_train_samples = X_train.shape[0]\n",
    "num_test_samples = X_test.shape[0]\n",
    "print(f'Number of training samples: {num_train_samples}')\n",
    "print(f'Number of testing samples: {num_test_samples}')\n",
    "\n",
    "# Store evaluation metrics\n",
    "metrics = {\n",
    "    'Model': [],\n",
    "    'Accuracy': [],\n",
    "    'Precision': [],\n",
    "    'Recall': [],\n",
    "    'F1 Score': []\n",
    "}\n",
    "\n",
    "# Function to evaluate and store metrics\n",
    "def evaluate_model(model, model_name):\n",
    "    model.fit(X_train, Y_train)\n",
    "    X_test_prediction = model.predict(X_test)\n",
    "    \n",
    "    report = classification_report(Y_test, X_test_prediction, output_dict=True)\n",
    "    metrics['Model'].append(model_name)\n",
    "    metrics['Accuracy'].append(accuracy_score(Y_test, X_test_prediction))\n",
    "    metrics['Precision'].append(report['1']['precision'])  # Assuming '1' is the label for \"Fake\"\n",
    "    metrics['Recall'].append(report['1']['recall'])\n",
    "    metrics['F1 Score'].append(report['1']['f1-score'])\n",
    "\n",
    "# Evaluate each model\n",
    "evaluate_model(model, 'Logistic Regression')\n",
    "evaluate_model(rmodel, 'Random Forest')\n",
    "evaluate_model(pmodel, 'Passive Aggressive')\n",
    "evaluate_model(model_knn, 'KNN')\n",
    "evaluate_model(model_nb, 'Naive Bayes')\n",
    "\n",
    "# Convert metrics to DataFrame for plotting\n",
    "metrics_df = pd.DataFrame(metrics)\n",
    "\n",
    "# Plotting\n",
    "metrics_df.set_index('Model').plot(kind='bar', figsize=(10, 6))\n",
    "plt.title('Performance Metrics for Fake News Detection Models')\n",
    "plt.xlabel('Models')\n",
    "plt.ylabel('Scores')\n",
    "plt.ylim(0, 1)  # Set y-axis limits to [0, 1]\n",
    "plt.xticks(rotation=45)\n",
    "plt.legend(title='Metrics')\n",
    "plt.tight_layout()\n",
    "plt.show()\n",
    "\n"
   ]
  },
  {
   "cell_type": "code",
   "execution_count": null,
   "id": "093c81a1-83bd-4228-aa81-14f044207004",
   "metadata": {},
   "outputs": [],
   "source": []
  },
  {
   "cell_type": "code",
   "execution_count": null,
   "id": "0a781a06-4969-4946-ab9c-598d8c0c110f",
   "metadata": {},
   "outputs": [],
   "source": [
    "import numpy as np\n",
    "import matplotlib.pyplot as plt\n",
    "from sklearn.metrics import precision_recall_curve, f1_score\n",
    "\n",
    "# Assuming you have your predictions and probabilities\n",
    "y_test_pred = rmodel.predict(X_test)  # Predictions from the Random Forest model\n",
    "y_test_prob = rmodel.predict_proba(X_test)[:, 1]  # Probability for the positive class\n",
    "\n",
    "# Calculate precision and recall\n",
    "precision, recall, thresholds = precision_recall_curve(Y_test, y_test_prob)\n",
    "\n",
    "# Calculate F1 scores for different thresholds\n",
    "f1_scores = [f1_score(Y_test, y_test_prob > thresh) for thresh in thresholds]\n",
    "\n",
    "# Find the threshold that gives the maximum F1 score\n",
    "best_threshold = thresholds[np.argmax(f1_scores)]\n",
    "print(f\"Optimal confidence threshold: {best_threshold}\")\n",
    "\n",
    "# Plotting Precision-Recall curve\n",
    "plt.figure(figsize=(10, 6))\n",
    "plt.plot(thresholds, precision[:-1], label='Precision', color='blue')\n",
    "plt.plot(thresholds, recall[:-1], label='Recall', color='orange')\n",
    "plt.plot(thresholds, f1_scores, label='F1 Score', color='green')\n",
    "plt.xlabel('Threshold')\n",
    "plt.ylabel('Score')\n",
    "plt.title('Precision, Recall, and F1 Score vs. Threshold')\n",
    "plt.legend()\n",
    "plt.grid()\n",
    "plt.show()\n"
   ]
  }
 ],
 "metadata": {
  "kernelspec": {
   "display_name": "Python 3 (ipykernel)",
   "language": "python",
   "name": "python3"
  },
  "language_info": {
   "codemirror_mode": {
    "name": "ipython",
    "version": 3
   },
   "file_extension": ".py",
   "mimetype": "text/x-python",
   "name": "python",
   "nbconvert_exporter": "python",
   "pygments_lexer": "ipython3",
   "version": "3.10.6"
  }
 },
 "nbformat": 4,
 "nbformat_minor": 5
}
